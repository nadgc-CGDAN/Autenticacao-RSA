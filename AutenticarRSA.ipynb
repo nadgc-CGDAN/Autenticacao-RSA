{
  "nbformat": 4,
  "nbformat_minor": 0,
  "metadata": {
    "colab": {
      "provenance": [],
      "authorship_tag": "ABX9TyO8ZT6qERLecvcr0YU4p/YL",
      "include_colab_link": true
    },
    "kernelspec": {
      "name": "python3",
      "display_name": "Python 3"
    },
    "language_info": {
      "name": "python"
    }
  },
  "cells": [
    {
      "cell_type": "markdown",
      "metadata": {
        "id": "view-in-github",
        "colab_type": "text"
      },
      "source": [
        "<a href=\"https://colab.research.google.com/github/nadgc-CGDAN/Autenticacao-RSA/blob/main/AutenticarRSA.ipynb\" target=\"_parent\"><img src=\"https://colab.research.google.com/assets/colab-badge.svg\" alt=\"Open In Colab\"/></a>"
      ]
    },
    {
      "cell_type": "code",
      "execution_count": 1,
      "metadata": {
        "colab": {
          "base_uri": "https://localhost:8080/"
        },
        "id": "bDk46S6VWDOr",
        "outputId": "a0746a06-e4f4-4b56-f8bc-966c6fab70a3"
      },
      "outputs": [
        {
          "output_type": "stream",
          "name": "stdout",
          "text": [
            "Collecting pycryptodome\n",
            "  Downloading pycryptodome-3.23.0-cp37-abi3-manylinux_2_17_x86_64.manylinux2014_x86_64.whl.metadata (3.4 kB)\n",
            "Downloading pycryptodome-3.23.0-cp37-abi3-manylinux_2_17_x86_64.manylinux2014_x86_64.whl (2.3 MB)\n",
            "\u001b[?25l   \u001b[90m━━━━━━━━━━━━━━━━━━━━━━━━━━━━━━━━━━━━━━━━\u001b[0m \u001b[32m0.0/2.3 MB\u001b[0m \u001b[31m?\u001b[0m eta \u001b[36m-:--:--\u001b[0m\r\u001b[2K   \u001b[91m━━━━━━━━━━━━━━━━━━━━━━━━━━━━━━━━━━━━━━━\u001b[0m\u001b[91m╸\u001b[0m \u001b[32m2.3/2.3 MB\u001b[0m \u001b[31m79.8 MB/s\u001b[0m eta \u001b[36m0:00:01\u001b[0m\r\u001b[2K   \u001b[90m━━━━━━━━━━━━━━━━━━━━━━━━━━━━━━━━━━━━━━━━\u001b[0m \u001b[32m2.3/2.3 MB\u001b[0m \u001b[31m45.1 MB/s\u001b[0m eta \u001b[36m0:00:00\u001b[0m\n",
            "\u001b[?25hInstalling collected packages: pycryptodome\n",
            "Successfully installed pycryptodome-3.23.0\n"
          ]
        }
      ],
      "source": [
        "!pip install pycryptodome\n"
      ]
    },
    {
      "cell_type": "code",
      "source": [
        "from Crypto.PublicKey import RSA\n",
        "from Crypto.Cipher import PKCS1_OAEP\n",
        "from Crypto.Signature import pkcs1_15\n",
        "from Crypto.Hash import SHA256\n",
        "\n",
        "\n",
        "#No contexto da criptografia com RSA em Python, \"autenticar\" uma mensagem significa que você quer verificar a origem da mensagem e garantir que ela não foi alterada.\n",
        "\n",
        "# Isso é feito com assinatura digital:\n",
        "\n",
        "#Quem envia usa a chave privada para assinar a mensagem.\n",
        "\n",
        "#Quem recebe usa a chave pública para verificar a assinatura.\n",
        "\n",
        "\n",
        "\n",
        "# Gerar par de chaves RSA\n",
        "def generate_rsa_keys():\n",
        "    key = RSA.generate(2048)\n",
        "    private_key = key.export_key()\n",
        "    public_key = key.publickey().export_key()\n",
        "    return public_key, private_key\n",
        "\n",
        "# Criptografar com a chave pública\n",
        "def encrypt_rsa(plaintext: str, public_key: bytes) -> str:\n",
        "    key = RSA.import_key(public_key)\n",
        "    cipher = PKCS1_OAEP.new(key)\n",
        "    ciphertext = cipher.encrypt(plaintext.encode())\n",
        "    return ciphertext.hex()\n",
        "\n",
        "# Descriptografar com a chave privada\n",
        "def decrypt_rsa(ciphertext: str, private_key: bytes) -> str:\n",
        "    key = RSA.import_key(private_key)\n",
        "    cipher = PKCS1_OAEP.new(key)\n",
        "    decrypted = cipher.decrypt(bytes.fromhex(ciphertext))\n",
        "    return decrypted.decode()\n",
        "\n",
        "# Assinar a mensagem com a chave privada\n",
        "def sign_message(message: str, private_key: bytes) -> str:\n",
        "    key = RSA.import_key(private_key)\n",
        "    h = SHA256.new(message.encode())\n",
        "    signature = pkcs1_15.new(key).sign(h)\n",
        "    return signature.hex()\n",
        "\n",
        "# Verificar assinatura com a chave pública\n",
        "def verify_signature(message: str, signature_hex: str, public_key: bytes) -> bool:\n",
        "    key = RSA.import_key(public_key)\n",
        "    h = SHA256.new(message.encode())\n",
        "    signature = bytes.fromhex(signature_hex)\n",
        "    try:\n",
        "        pkcs1_15.new(key).verify(h, signature)\n",
        "        return True\n",
        "    except (ValueError, TypeError):\n",
        "        return False\n",
        "\n",
        "# Teste\n",
        "msg = \"mensagem confidencial\"\n",
        "public_key, private_key = generate_rsa_keys()\n",
        "encrypted = encrypt_rsa(msg, public_key)\n",
        "decrypted = decrypt_rsa(encrypted, private_key)\n",
        "signature = sign_message(msg, private_key)\n",
        "is_valid = verify_signature(msg, signature, public_key)\n",
        "\n",
        "# Mostrar resultados\n",
        "print(\"Mensagem original:\", msg)\n",
        "print(\"Criptografada:\", encrypted)\n",
        "print(\"Descriptografada:\", decrypted)\n",
        "print(\"Assinatura:\", signature)\n",
        "print(\"Assinatura válida?\", is_valid)\n"
      ],
      "metadata": {
        "colab": {
          "base_uri": "https://localhost:8080/"
        },
        "id": "sDYPtOGnWbK0",
        "outputId": "fc38b01f-0d38-48a5-9de5-42aac29232c4"
      },
      "execution_count": 3,
      "outputs": [
        {
          "output_type": "stream",
          "name": "stdout",
          "text": [
            "Mensagem original: mensagem confidencial\n",
            "Criptografada: 747153b647bd3d2969a5baeff28af44fc763a3e9cd67cdc3929fcab1f5795a14ffe10011e94b48cbab777bcab5ba6a68d0443a223e60c95cd558dd5fd35d93bb6a9f438130bbe5728a871cb8f5f12c9306d485d4c9b8ebcf3f92734d9defc708b337b441183429118b792cbad95d8d7f8010b5be2e4b66986d11cf77bb56ce09b7dfc6802ca523c3b6f600bc3a3828f5acc6d535c821da508a1a8965e6dca25e5b0a55f5809e92951afa81fa24cfc79fb99c2b48c1e4cad925ba7f5387a7683ea6852923510687c356577f180cc81d090b1dc89baa44e1748929e64f28f14cec5d9b1583af1d9a6e42685c2a2eeaaf74f07b84e4aaf08c6016041e85ff720b2c\n",
            "Descriptografada: mensagem confidencial\n",
            "Assinatura: 4d71e960307ee0ed3843fc25a62a83fb7d88955b558f6c6606d72acbe133a4a06a1cdef0938368cf29b623b7aa8934be3b99876aeb37aa5fd36ceebbdd2c997d15b837c3de897514c67c43d761492dd6e4cea7e107d8fe39d575f3ef66ba988a961b39c256ade2ff16281e918fb9952974ebd0e8272196dc31268bc19932e6493e684dffba3d480640acb0698a185ae248902169cfba0a81717e804189ab39918a4311dd6c8ae51dabb264041a81e1d2b20bb186fe5258406f618fa7121a6078073a39dad4cd632e5fa7c0055238a2cf009b54f394460057b5671e0a504584de57003923b76f1c7634f5181ed0fd153f32c0b6af0e055e1b53b77d3ca24007fe\n",
            "Assinatura válida? True\n"
          ]
        }
      ]
    }
  ]
}